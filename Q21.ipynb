{
 "cells": [
  {
   "cell_type": "markdown",
   "metadata": {},
   "source": [
    "Write a code that takes two tuples as input and returns a new tuple containing elements that are\n",
    "common to both input tuples"
   ]
  },
  {
   "cell_type": "code",
   "execution_count": 5,
   "metadata": {},
   "outputs": [
    {
     "name": "stdout",
     "output_type": "stream",
     "text": [
      "('3', '4', '5')\n"
     ]
    }
   ],
   "source": [
    "t1 = input(\"Please enter first tuple\")\n",
    "t1 = tuple(t1.split(','))\n",
    "\n",
    "t2 = input(\"Please enter second tuple\")\n",
    "t2 = tuple(t2.split(','))\n",
    "\n",
    "t3 = []\n",
    "\n",
    "for i in t1:\n",
    "    for j in t2:\n",
    "        if i == j:\n",
    "            t3.append(i)\n",
    "            \n",
    "t3 = tuple(t3)\n",
    "print(t3)          "
   ]
  }
 ],
 "metadata": {
  "kernelspec": {
   "display_name": "Python 3",
   "language": "python",
   "name": "python3"
  },
  "language_info": {
   "codemirror_mode": {
    "name": "ipython",
    "version": 3
   },
   "file_extension": ".py",
   "mimetype": "text/x-python",
   "name": "python",
   "nbconvert_exporter": "python",
   "pygments_lexer": "ipython3",
   "version": "3.9.19"
  }
 },
 "nbformat": 4,
 "nbformat_minor": 2
}
