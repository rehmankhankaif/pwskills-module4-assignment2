{
 "cells": [
  {
   "cell_type": "markdown",
   "metadata": {},
   "source": [
    "Create a code to count the occurrences of each element in a list and return a dictionary with elements as\n",
    "keys and their counts as values"
   ]
  },
  {
   "cell_type": "code",
   "execution_count": null,
   "metadata": {},
   "outputs": [],
   "source": [
    "List = [\n",
    "    'A1', 'B2', 'C3', 'D4', 'A1', 'E5', 'F6', 'G7', 'H8', 'I9', 'J0', \n",
    "    'K1', 'L2', 'M3', 'N4', 'O5', 'P6', 'Q7', 'R8', 'S9', 'T0', 'U1', \n",
    "    'V2', 'W3', 'X4', 'Y5', 'Z6', 'A1', 'B2', 'C3', 'D4', 'E5', 'F6', \n",
    "    'G7', 'H8', 'I9', 'J0', 'K1', 'L2', 'M3', 'N4', 'O5', 'P6', 'Q7', \n",
    "    'R8', 'S9', 'T0', 'U1', 'V2', 'W3', 'X4', 'Y5', 'Z6', 'A1', 'B2', \n",
    "    'C3', 'D4', 'E5', 'F6', 'G7', 'H8', 'I9', 'J0', 'K1', 'L2', 'M3', \n",
    "    'N4', 'O5', 'P6', 'Q7', 'R8', 'S9', 'T0', 'U1', 'V2', 'W3', 'X4', \n",
    "    'Y5', 'Z6'\n",
    "]\n",
    "\n",
    "count = 1\n",
    "for i in List[::]:\n",
    "    for j in List[1::]:\n",
    "        if i == j:\n",
    "            count += 1"
   ]
  },
  {
   "cell_type": "code",
   "execution_count": 4,
   "metadata": {},
   "outputs": [
    {
     "name": "stdout",
     "output_type": "stream",
     "text": [
      "A1: 4\n",
      "B2: 3\n",
      "C3: 3\n",
      "D4: 3\n",
      "E5: 3\n",
      "F6: 3\n",
      "G7: 3\n",
      "H8: 3\n",
      "I9: 3\n",
      "J0: 3\n",
      "K1: 3\n",
      "L2: 3\n",
      "M3: 3\n",
      "N4: 3\n",
      "O5: 3\n",
      "P6: 3\n",
      "Q7: 3\n",
      "R8: 3\n",
      "S9: 3\n",
      "T0: 3\n",
      "U1: 3\n",
      "V2: 3\n",
      "W3: 3\n",
      "X4: 3\n",
      "Y5: 3\n",
      "Z6: 3\n"
     ]
    }
   ],
   "source": [
    "List = [\n",
    "    'A1', 'B2', 'C3', 'D4', 'A1', 'E5', 'F6', 'G7', 'H8', 'I9', 'J0', \n",
    "    'K1', 'L2', 'M3', 'N4', 'O5', 'P6', 'Q7', 'R8', 'S9', 'T0', 'U1', \n",
    "    'V2', 'W3', 'X4', 'Y5', 'Z6', 'A1', 'B2', 'C3', 'D4', 'E5', 'F6', \n",
    "    'G7', 'H8', 'I9', 'J0', 'K1', 'L2', 'M3', 'N4', 'O5', 'P6', 'Q7', \n",
    "    'R8', 'S9', 'T0', 'U1', 'V2', 'W3', 'X4', 'Y5', 'Z6', 'A1', 'B2', \n",
    "    'C3', 'D4', 'E5', 'F6', 'G7', 'H8', 'I9', 'J0', 'K1', 'L2', 'M3', \n",
    "    'N4', 'O5', 'P6', 'Q7', 'R8', 'S9', 'T0', 'U1', 'V2', 'W3', 'X4', \n",
    "    'Y5', 'Z6'\n",
    "]\n",
    "\n",
    "# Initialize an empty dictionary to hold the counts\n",
    "count_dict = {}\n",
    "\n",
    "# Iterate through each element in the list\n",
    "for item in List:\n",
    "    if item in count_dict:\n",
    "        count_dict[item] += 1  # Increment the count if the item is already in the dictionary\n",
    "    else:\n",
    "        count_dict[item] = 1   # Initialize the count to 1 if the item is not in the dictionary\n",
    "\n",
    "List = [\n",
    "    'A1', 'B2', 'C3', 'D4', 'A1', 'E5', 'F6', 'G7', 'H8', 'I9', 'J0', \n",
    "    'K1', 'L2', 'M3', 'N4', 'O5', 'P6', 'Q7', 'R8', 'S9', 'T0', 'U1', \n",
    "    'V2', 'W3', 'X4', 'Y5', 'Z6', 'A1', 'B2', 'C3', 'D4', 'E5', 'F6', \n",
    "    'G7', 'H8', 'I9', 'J0', 'K1', 'L2', 'M3', 'N4', 'O5', 'P6', 'Q7', \n",
    "    'R8', 'S9', 'T0', 'U1', 'V2', 'W3', 'X4', 'Y5', 'Z6', 'A1', 'B2', \n",
    "    'C3', 'D4', 'E5', 'F6', 'G7', 'H8', 'I9', 'J0', 'K1', 'L2', 'M3', \n",
    "    'N4', 'O5', 'P6', 'Q7', 'R8', 'S9', 'T0', 'U1', 'V2', 'W3', 'X4', \n",
    "    'Y5', 'Z6'\n",
    "]\n",
    "\n",
    "# Initialize an empty dictionary to hold the counts\n",
    "count_dict = {}\n",
    "\n",
    "# Iterate through each element in the list\n",
    "for item in List:\n",
    "    if item in count_dict:\n",
    "        count_dict[item] += 1  # Increment the count if the item is already in the dictionary\n",
    "    else:\n",
    "        count_dict[item] = 1   # Initialize the count to 1 if the item is not in the dictionary\n",
    "\n",
    "sorted_count_dict = dict(sorted(count_dict.items())) \n",
    "for key, value in sorted_count_dict.items(): \n",
    "    print(f\"{key}: {value}\")\n",
    "\n"
   ]
  }
 ],
 "metadata": {
  "kernelspec": {
   "display_name": "Python 3",
   "language": "python",
   "name": "python3"
  },
  "language_info": {
   "codemirror_mode": {
    "name": "ipython",
    "version": 3
   },
   "file_extension": ".py",
   "mimetype": "text/x-python",
   "name": "python",
   "nbconvert_exporter": "python",
   "pygments_lexer": "ipython3",
   "version": "3.9.19"
  }
 },
 "nbformat": 4,
 "nbformat_minor": 2
}
