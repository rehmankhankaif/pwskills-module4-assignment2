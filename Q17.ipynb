{
 "cells": [
  {
   "cell_type": "markdown",
   "metadata": {},
   "source": [
    "Write a code to merge two sorted lists into a single sorted list"
   ]
  },
  {
   "cell_type": "code",
   "execution_count": 3,
   "metadata": {},
   "outputs": [
    {
     "name": "stdout",
     "output_type": "stream",
     "text": [
      "[1, 2, 3, 4, 5, 6, 7, 8, 9, 10, 11, 13, 15]\n"
     ]
    }
   ],
   "source": [
    "list1 = [1, 3, 5, 7, 9, 11, 13, 15]\n",
    "list2 = [2, 4, 6, 8, 10]\n",
    "\n",
    "list = []\n",
    "\n",
    "i,j = 0,0\n",
    "\n",
    "while i < len(list1) and j < len(list2):\n",
    "    if list1[i] < list2[j]:\n",
    "        list.append(list1[i])\n",
    "        i += 1\n",
    "    elif list1[i] == list2[j]:\n",
    "        list.append(list1[i])\n",
    "        i += 1\n",
    "        j += 1\n",
    "    else:\n",
    "        list.append(list2[j])\n",
    "        j += 1\n",
    "while i < len(list1):\n",
    "    list.append(list1[i])\n",
    "    i += 1\n",
    "    \n",
    "while j < len(list2):\n",
    "    list.append(list2[j])\n",
    "    j += 1\n",
    "\n",
    "print(list)"
   ]
  }
 ],
 "metadata": {
  "kernelspec": {
   "display_name": "Python 3",
   "language": "python",
   "name": "python3"
  },
  "language_info": {
   "codemirror_mode": {
    "name": "ipython",
    "version": 3
   },
   "file_extension": ".py",
   "mimetype": "text/x-python",
   "name": "python",
   "nbconvert_exporter": "python",
   "pygments_lexer": "ipython3",
   "version": "3.9.19"
  }
 },
 "nbformat": 4,
 "nbformat_minor": 2
}
