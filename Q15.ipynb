{
 "cells": [
  {
   "cell_type": "markdown",
   "metadata": {},
   "source": [
    "Implement a code to find and remove duplicates from a list while preserving the original order of\n",
    "elements"
   ]
  },
  {
   "cell_type": "code",
   "execution_count": null,
   "metadata": {},
   "outputs": [
    {
     "name": "stdout",
     "output_type": "stream",
     "text": [
      "['A1', 'B2', 'C3', 'D4', 'E5', 'F6', 'G7', 'H8', 'I9', 'J0', 'K1', 'L2', 'M3', 'N4', 'O5', 'P6', 'Q7', 'R8', 'S9', 'T0', 'U1', 'V2', 'W3', 'X4', 'Y5', 'Z6']\n"
     ]
    }
   ],
   "source": [
    "List = [\n",
    "    'A1', 'B2', 'C3', 'D4', 'A1', 'E5', 'F6', 'G7', 'H8', 'I9', 'J0', \n",
    "    'K1', 'L2', 'M3', 'N4', 'O5', 'P6', 'Q7', 'R8', 'S9', 'T0', 'U1', \n",
    "    'V2', 'W3', 'X4', 'Y5', 'Z6', 'A1', 'B2', 'C3', 'D4', 'E5', 'F6', \n",
    "    'G7', 'H8', 'I9', 'J0', 'K1', 'L2', 'M3', 'N4', 'O5', 'P6', 'Q7', \n",
    "    'R8', 'S9', 'T0', 'U1', 'V2', 'W3', 'X4', 'Y5', 'Z6', 'A1', 'B2', \n",
    "    'C3', 'D4', 'E5', 'F6', 'G7', 'H8', 'I9', 'J0', 'K1', 'L2', 'M3', \n",
    "    'N4', 'O5', 'P6', 'Q7', 'R8', 'S9', 'T0', 'U1', 'V2', 'W3', 'X4', \n",
    "    'Y5', 'Z6'\n",
    "]\n",
    "\n",
    "Updated_List = []\n",
    "\n",
    "for i in List:\n",
    "    if i not in Updated_List:\n",
    "        Updated_List.append(i)\n",
    "\n",
    "print(Updated_List)\n"
   ]
  }
 ],
 "metadata": {
  "kernelspec": {
   "display_name": "Python 3",
   "language": "python",
   "name": "python3"
  },
  "language_info": {
   "codemirror_mode": {
    "name": "ipython",
    "version": 3
   },
   "file_extension": ".py",
   "mimetype": "text/x-python",
   "name": "python",
   "nbconvert_exporter": "python",
   "pygments_lexer": "ipython3",
   "version": "3.9.19"
  }
 },
 "nbformat": 4,
 "nbformat_minor": 2
}
