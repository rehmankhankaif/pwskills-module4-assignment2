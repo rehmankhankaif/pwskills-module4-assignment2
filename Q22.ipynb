{
 "cells": [
  {
   "cell_type": "markdown",
   "metadata": {},
   "source": [
    "Create a code that prompts the user to enter two sets of integers separated by commas. Then, print the intersection of these two sets"
   ]
  },
  {
   "cell_type": "code",
   "execution_count": 8,
   "metadata": {},
   "outputs": [
    {
     "name": "stdout",
     "output_type": "stream",
     "text": [
      "{2, 3, 4, 5, 6}\n"
     ]
    }
   ],
   "source": [
    "s1 = input() \n",
    "s1 = set(int(x) for x in s1.split(','))\n",
    "\n",
    "s2 = input() \n",
    "s2 = set(int(x) for x in s2.split(','))\n",
    "\n",
    "s = []\n",
    "\n",
    "for i in s1:\n",
    "    for j in s2:\n",
    "        if i == j:\n",
    "            s.append(i)\n",
    "            \n",
    "s = set(s)\n",
    "print(s)"
   ]
  }
 ],
 "metadata": {
  "kernelspec": {
   "display_name": "Python 3",
   "language": "python",
   "name": "python3"
  },
  "language_info": {
   "codemirror_mode": {
    "name": "ipython",
    "version": 3
   },
   "file_extension": ".py",
   "mimetype": "text/x-python",
   "name": "python",
   "nbconvert_exporter": "python",
   "pygments_lexer": "ipython3",
   "version": "3.9.19"
  }
 },
 "nbformat": 4,
 "nbformat_minor": 2
}
