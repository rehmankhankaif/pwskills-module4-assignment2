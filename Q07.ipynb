{
 "cells": [
  {
   "cell_type": "markdown",
   "metadata": {},
   "source": [
    "Write a code to determine if a string has all unique characters"
   ]
  },
  {
   "cell_type": "code",
   "execution_count": 4,
   "metadata": {},
   "outputs": [
    {
     "name": "stdout",
     "output_type": "stream",
     "text": [
      "No duplicate characters found\n"
     ]
    }
   ],
   "source": [
    "s = input(\"Please enter a string!\")  # Example: abbcd\n",
    "\n",
    "# Use a set to track seen characters\n",
    "seen = set()\n",
    "\n",
    "for char in s:\n",
    "    if char in seen:\n",
    "        print(\"Entered string has duplicate characters\")\n",
    "        break\n",
    "    else:\n",
    "        seen.add(char)\n",
    "else:\n",
    "    print(\"No duplicate characters found\")\n"
   ]
  }
 ],
 "metadata": {
  "kernelspec": {
   "display_name": "Python 3",
   "language": "python",
   "name": "python3"
  },
  "language_info": {
   "codemirror_mode": {
    "name": "ipython",
    "version": 3
   },
   "file_extension": ".py",
   "mimetype": "text/x-python",
   "name": "python",
   "nbconvert_exporter": "python",
   "pygments_lexer": "ipython3",
   "version": "3.9.19"
  }
 },
 "nbformat": 4,
 "nbformat_minor": 2
}
