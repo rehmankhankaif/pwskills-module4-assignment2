{
 "cells": [
  {
   "cell_type": "markdown",
   "metadata": {},
   "source": [
    "Write a code to count the number of words in a string"
   ]
  },
  {
   "cell_type": "code",
   "execution_count": null,
   "metadata": {},
   "outputs": [
    {
     "name": "stdout",
     "output_type": "stream",
     "text": [
      "Total number of words in a given string 86\n"
     ]
    }
   ],
   "source": [
    "#first code to count the number of words\n",
    "s = \"PWSkills is a revolutionary platform committed to delivering top-notch educational experiences. By harnessing the power of innovative teaching methods and cutting-edge technology, PWSkills empowers learners to achieve their highest potential. Whether you're looking to upskill for career advancement or simply to quench your thirst for knowledge, PWSkills offers a diverse range of courses tailored to meet your needs. With a focus on practical applications and real-world skills, PWSkills ensures that every learner is equipped with the tools and confidence needed to succeed in today's dynamic landscape.\"\n",
    "count = 0\n",
    "for i in s:\n",
    "    if i == \" \":\n",
    "        count += 1\n",
    "        \n",
    "print(\"Total number of words in a given string\", count+1)"
   ]
  },
  {
   "cell_type": "code",
   "execution_count": null,
   "metadata": {},
   "outputs": [
    {
     "name": "stdout",
     "output_type": "stream",
     "text": [
      "Total number of words in the given string: 86\n"
     ]
    }
   ],
   "source": [
    "#second code to find the number of words\n",
    "s = \"PWSkills is a revolutionary platform committed to delivering top-notch educational experiences. By harnessing the power of innovative teaching methods and cutting-edge technology, PWSkills empowers learners to achieve their highest potential. Whether you're looking to upskill for career advancement or simply to quench your thirst for knowledge, PWSkills offers a diverse range of courses tailored to meet your needs. With a focus on practical applications and real-world skills, PWSkills ensures that every learner is equipped with the tools and confidence needed to succeed in today's dynamic landscape.\"\n",
    "words = s.split()  \n",
    "count = len(words) \n",
    "\n",
    "print(\"Total number of words in the given string:\", count)\n"
   ]
  }
 ],
 "metadata": {
  "kernelspec": {
   "display_name": "Python 3",
   "language": "python",
   "name": "python3"
  },
  "language_info": {
   "codemirror_mode": {
    "name": "ipython",
    "version": 3
   },
   "file_extension": ".py",
   "mimetype": "text/x-python",
   "name": "python",
   "nbconvert_exporter": "python",
   "pygments_lexer": "ipython3",
   "version": "3.9.19"
  }
 },
 "nbformat": 4,
 "nbformat_minor": 2
}
