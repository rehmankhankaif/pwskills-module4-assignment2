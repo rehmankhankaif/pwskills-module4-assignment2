{
 "cells": [
  {
   "cell_type": "markdown",
   "metadata": {},
   "source": [
    "Write a code to perform basic string compression using the counts of repeated characters"
   ]
  },
  {
   "cell_type": "code",
   "execution_count": 1,
   "metadata": {},
   "outputs": [
    {
     "name": "stdout",
     "output_type": "stream",
     "text": [
      "a3b2c4\n"
     ]
    }
   ],
   "source": [
    "s = input(\"Please enter your string!\")  # e.g., \"aaabbcccc\"\n",
    "\n",
    "# Initialize variables\n",
    "compressed_string = \"\"\n",
    "count = 1\n",
    "\n",
    "# Loop through the string\n",
    "for i in range(1, len(s)):\n",
    "    if s[i] == s[i - 1]:\n",
    "        count += 1\n",
    "    else:\n",
    "        compressed_string += s[i - 1] + str(count)\n",
    "        count = 1\n",
    "\n",
    "# Add the last set of characters\n",
    "compressed_string += s[-1] + str(count)\n",
    "\n",
    "# Print the result\n",
    "print(compressed_string)\n"
   ]
  }
 ],
 "metadata": {
  "kernelspec": {
   "display_name": "Python 3",
   "language": "python",
   "name": "python3"
  },
  "language_info": {
   "codemirror_mode": {
    "name": "ipython",
    "version": 3
   },
   "file_extension": ".py",
   "mimetype": "text/x-python",
   "name": "python",
   "nbconvert_exporter": "python",
   "pygments_lexer": "ipython3",
   "version": "3.9.19"
  }
 },
 "nbformat": 4,
 "nbformat_minor": 2
}
