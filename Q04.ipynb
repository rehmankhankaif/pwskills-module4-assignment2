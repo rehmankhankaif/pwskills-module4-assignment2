{
 "cells": [
  {
   "cell_type": "markdown",
   "metadata": {},
   "source": [
    "Write a code to check if two given strings are anagrams of each other"
   ]
  },
  {
   "cell_type": "code",
   "execution_count": 3,
   "metadata": {},
   "outputs": [
    {
     "name": "stdout",
     "output_type": "stream",
     "text": [
      "Strings are anagrams\n"
     ]
    }
   ],
   "source": [
    "String_01 = input(\"Please enter first string!\")\n",
    "String_02 = input(\"Please enter second string!\")\n",
    "\n",
    "if len(String_01) != len(String_02):\n",
    "    print(\"Strings are not anagrams\")\n",
    "else:\n",
    "    if sorted(String_01) == sorted(String_02):\n",
    "        print(\"Strings are anagrams\")\n",
    "    else:\n",
    "        print(\"Strings are not anagrams\")\n"
   ]
  }
 ],
 "metadata": {
  "kernelspec": {
   "display_name": "Python 3",
   "language": "python",
   "name": "python3"
  },
  "language_info": {
   "codemirror_mode": {
    "name": "ipython",
    "version": 3
   },
   "file_extension": ".py",
   "mimetype": "text/x-python",
   "name": "python",
   "nbconvert_exporter": "python",
   "pygments_lexer": "ipython3",
   "version": "3.9.19"
  }
 },
 "nbformat": 4,
 "nbformat_minor": 2
}
