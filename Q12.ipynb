{
 "cells": [
  {
   "cell_type": "markdown",
   "metadata": {},
   "source": [
    "Implement a code to find the second largest number in a given list of integers"
   ]
  },
  {
   "cell_type": "code",
   "execution_count": 4,
   "metadata": {},
   "outputs": [
    {
     "name": "stdout",
     "output_type": "stream",
     "text": [
      "The second largest number is: 99\n"
     ]
    }
   ],
   "source": [
    "def find_second_largest(numbers):\n",
    "    # Remove duplicates by converting the list to a set, then back to a list\n",
    "    unique_numbers = list(set(numbers))\n",
    "    \n",
    "    # Sort the list in descending order\n",
    "    unique_numbers.sort(reverse=True)\n",
    "    \n",
    "    # Return the second largest number\n",
    "    if len(unique_numbers) >= 2:\n",
    "        return unique_numbers[1]\n",
    "    else:\n",
    "        return None  # Return None if there are not enough elements\n",
    "\n",
    "# Example usage\n",
    "numbers = [10, 20, 4, 45, 99, 20, 45, 100]\n",
    "second_largest = find_second_largest(numbers)\n",
    "if second_largest is not None:\n",
    "    print(\"The second largest number is:\", second_largest)\n",
    "else:\n",
    "    print(\"The list does not have enough unique elements.\")\n"
   ]
  }
 ],
 "metadata": {
  "kernelspec": {
   "display_name": "Python 3",
   "language": "python",
   "name": "python3"
  },
  "language_info": {
   "codemirror_mode": {
    "name": "ipython",
    "version": 3
   },
   "file_extension": ".py",
   "mimetype": "text/x-python",
   "name": "python",
   "nbconvert_exporter": "python",
   "pygments_lexer": "ipython3",
   "version": "3.9.19"
  }
 },
 "nbformat": 4,
 "nbformat_minor": 2
}
