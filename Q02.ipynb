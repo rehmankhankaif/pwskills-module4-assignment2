{
 "cells": [
  {
   "cell_type": "markdown",
   "metadata": {},
   "source": [
    "Write a code to count the number of vowels in a string"
   ]
  },
  {
   "cell_type": "code",
   "execution_count": 7,
   "metadata": {},
   "outputs": [
    {
     "name": "stdout",
     "output_type": "stream",
     "text": [
      "Number of vowels are:  5\n"
     ]
    }
   ],
   "source": [
    "myname = \"Kaif Rehman Khan\"\n",
    "count = 0\n",
    "vowels = \"aeiouAEIOU\"\n",
    "\n",
    "for i in myname:\n",
    "    if i in vowels:\n",
    "        count += 1\n",
    "print(\"Number of vowels are: \",count) "
   ]
  }
 ],
 "metadata": {
  "kernelspec": {
   "display_name": "Python 3",
   "language": "python",
   "name": "python3"
  },
  "language_info": {
   "codemirror_mode": {
    "name": "ipython",
    "version": 3
   },
   "file_extension": ".py",
   "mimetype": "text/x-python",
   "name": "python",
   "nbconvert_exporter": "python",
   "pygments_lexer": "ipython3",
   "version": "3.9.19"
  }
 },
 "nbformat": 4,
 "nbformat_minor": 2
}
