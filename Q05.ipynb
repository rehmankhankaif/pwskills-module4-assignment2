{
 "cells": [
  {
   "cell_type": "markdown",
   "metadata": {},
   "source": [
    "Write a code to find all occurrences of a given substring within another string"
   ]
  },
  {
   "cell_type": "code",
   "execution_count": 4,
   "metadata": {},
   "outputs": [
    {
     "name": "stdout",
     "output_type": "stream",
     "text": [
      "[89]\n"
     ]
    }
   ],
   "source": [
    "def find_substring_occurrences(s, sub):\n",
    "    start = 0\n",
    "    indices = []\n",
    "    while start < len(s):\n",
    "        start = s.find(sub, start)\n",
    "        if start == -1:\n",
    "            break\n",
    "        indices.append(start)\n",
    "        start += len(sub)\n",
    "    return indices\n",
    "\n",
    "# Example usage\n",
    "s = \"PWSkills is dedicated to empowering individuals with essential skills through innovative and accessible education solutions\"\n",
    "sub = \"an\"\n",
    "occurrences = find_substring_occurrences(s, sub)\n",
    "print(occurrences)\n"
   ]
  }
 ],
 "metadata": {
  "kernelspec": {
   "display_name": "Python 3",
   "language": "python",
   "name": "python3"
  },
  "language_info": {
   "codemirror_mode": {
    "name": "ipython",
    "version": 3
   },
   "file_extension": ".py",
   "mimetype": "text/x-python",
   "name": "python",
   "nbconvert_exporter": "python",
   "pygments_lexer": "ipython3",
   "version": "3.9.19"
  }
 },
 "nbformat": 4,
 "nbformat_minor": 2
}
