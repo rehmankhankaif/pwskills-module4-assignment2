{
 "cells": [
  {
   "cell_type": "markdown",
   "metadata": {},
   "source": [
    "Create a code to check if a given list is sorted (either in ascending or descending order) or not"
   ]
  },
  {
   "cell_type": "code",
   "execution_count": null,
   "metadata": {},
   "outputs": [
    {
     "name": "stdout",
     "output_type": "stream",
     "text": [
      "The list is not sorted.\n"
     ]
    }
   ],
   "source": [
    "def is_sorted(lst):\n",
    "    ascending = True\n",
    "    descending = True\n",
    "    \n",
    "    for i in range(len(lst) - 1):\n",
    "        if lst[i] > lst[i + 1]:\n",
    "            ascending = False\n",
    "        if lst[i] < lst[i + 1]:\n",
    "            descending = False\n",
    "    \n",
    "    if ascending:\n",
    "        return \"The list is sorted in ascending order.\"\n",
    "    elif descending:\n",
    "        return \"The list is sorted in descending order.\"\n",
    "    else:\n",
    "        return \"The list is not sorted.\"\n",
    "\n",
    "# Example usage\n",
    "sample_list = [3, 5, 7, 9, 11, 13, 15, 8]\n",
    "result = is_sorted(sample_list)\n",
    "print(result)  # Output: \"The list is sorted in ascending order.\"\n"
   ]
  }
 ],
 "metadata": {
  "kernelspec": {
   "display_name": "Python 3",
   "language": "python",
   "name": "python3"
  },
  "language_info": {
   "codemirror_mode": {
    "name": "ipython",
    "version": 3
   },
   "file_extension": ".py",
   "mimetype": "text/x-python",
   "name": "python",
   "nbconvert_exporter": "python",
   "pygments_lexer": "ipython3",
   "version": "3.9.19"
  }
 },
 "nbformat": 4,
 "nbformat_minor": 2
}
